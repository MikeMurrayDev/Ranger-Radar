{
 "cells": [
  {
   "cell_type": "markdown",
   "metadata": {},
   "source": [
    "# EDA and Cleaning"
   ]
  },
  {
   "cell_type": "markdown",
   "metadata": {},
   "source": [
    "Imports"
   ]
  },
  {
   "cell_type": "code",
   "execution_count": 1,
   "metadata": {},
   "outputs": [],
   "source": [
    "import pandas as pd\n",
    "import numpy as np\n",
    "import time, json\n",
    "\n",
    "import sshtunnel\n",
    "import mysql.connector\n",
    "from mysql.connector import errorcode"
   ]
  },
  {
   "cell_type": "markdown",
   "metadata": {},
   "source": [
    "Helper Functions"
   ]
  },
  {
   "cell_type": "code",
   "execution_count": 2,
   "metadata": {},
   "outputs": [
    {
     "name": "stdout",
     "output_type": "stream",
     "text": [
      "test\n"
     ]
    }
   ],
   "source": [
    "def name_extractor(x):\n",
    "    try:\n",
    "        return eval(x)['name']\n",
    "    except:\n",
    "        return None\n",
    "\n",
    "    \n",
    "print(name_extractor('{\"name\": \"test\"}'))    \n",
    "    "
   ]
  },
  {
   "cell_type": "code",
   "execution_count": 3,
   "metadata": {},
   "outputs": [
    {
     "name": "stdout",
     "output_type": "stream",
     "text": [
      "-1.5398388646 35.012608336\n"
     ]
    }
   ],
   "source": [
    "def get_lat(x):\n",
    "    try:\n",
    "        return str(x).split(',')[0]\n",
    "    except:\n",
    "        return None\n",
    "    \n",
    "def get_long(x):\n",
    "    try:\n",
    "        return str(x).split(',')[1]\n",
    "    except:\n",
    "        return None\n",
    "        \n",
    "print(get_lat('-1.5398388646,35.012608336'), get_long('-1.5398388646,35.012608336'))"
   ]
  },
  {
   "cell_type": "code",
   "execution_count": 4,
   "metadata": {},
   "outputs": [],
   "source": [
    "def name_geo_time(pandas_df):\n",
    "    return (\n",
    "        pandas_df['taxon'].apply(name_extractor), \n",
    "        pandas_df['location'].apply(get_lat), \n",
    "        pandas_df['location'].apply(get_long), \n",
    "        pandas_df['created_at'].str.split('T', expand=True)[0]\n",
    "    )"
   ]
  },
  {
   "cell_type": "markdown",
   "metadata": {},
   "source": [
    "# Elephant MoveBank"
   ]
  },
  {
   "cell_type": "code",
   "execution_count": 5,
   "metadata": {},
   "outputs": [
    {
     "data": {
      "text/plain": [
       "(99988, 10)"
      ]
     },
     "execution_count": 5,
     "metadata": {},
     "output_type": "execute_result"
    }
   ],
   "source": [
    "research = pd.read_csv('../data/research.csv')\n",
    "research.shape"
   ]
  },
  {
   "cell_type": "code",
   "execution_count": 6,
   "metadata": {},
   "outputs": [
    {
     "data": {
      "text/html": [
       "<div>\n",
       "<style scoped>\n",
       "    .dataframe tbody tr th:only-of-type {\n",
       "        vertical-align: middle;\n",
       "    }\n",
       "\n",
       "    .dataframe tbody tr th {\n",
       "        vertical-align: top;\n",
       "    }\n",
       "\n",
       "    .dataframe thead th {\n",
       "        text-align: right;\n",
       "    }\n",
       "</style>\n",
       "<table border=\"1\" class=\"dataframe\">\n",
       "  <thead>\n",
       "    <tr style=\"text-align: right;\">\n",
       "      <th></th>\n",
       "      <th>event-id</th>\n",
       "      <th>visible</th>\n",
       "      <th>timestamp</th>\n",
       "      <th>location-long</th>\n",
       "      <th>location-lat</th>\n",
       "      <th>sensor-type</th>\n",
       "      <th>individual-taxon-canonical-name</th>\n",
       "      <th>tag-local-identifier</th>\n",
       "      <th>individual-local-identifier</th>\n",
       "      <th>study-name</th>\n",
       "    </tr>\n",
       "  </thead>\n",
       "  <tbody>\n",
       "    <tr>\n",
       "      <th>0</th>\n",
       "      <td>7980499272</td>\n",
       "      <td>True</td>\n",
       "      <td>2008-10-30 00:15:00.000</td>\n",
       "      <td>16.202088</td>\n",
       "      <td>-19.063725</td>\n",
       "      <td>gps</td>\n",
       "      <td>Loxodonta africana</td>\n",
       "      <td>AG005</td>\n",
       "      <td>LA5</td>\n",
       "      <td>African elephants in Etosha National Park (dat...</td>\n",
       "    </tr>\n",
       "    <tr>\n",
       "      <th>1</th>\n",
       "      <td>7980499273</td>\n",
       "      <td>True</td>\n",
       "      <td>2008-10-30 02:46:00.000</td>\n",
       "      <td>16.209496</td>\n",
       "      <td>-19.069908</td>\n",
       "      <td>gps</td>\n",
       "      <td>Loxodonta africana</td>\n",
       "      <td>AG005</td>\n",
       "      <td>LA5</td>\n",
       "      <td>African elephants in Etosha National Park (dat...</td>\n",
       "    </tr>\n",
       "    <tr>\n",
       "      <th>2</th>\n",
       "      <td>7980499274</td>\n",
       "      <td>True</td>\n",
       "      <td>2008-10-30 03:31:00.000</td>\n",
       "      <td>16.214184</td>\n",
       "      <td>-19.068719</td>\n",
       "      <td>gps</td>\n",
       "      <td>Loxodonta africana</td>\n",
       "      <td>AG005</td>\n",
       "      <td>LA5</td>\n",
       "      <td>African elephants in Etosha National Park (dat...</td>\n",
       "    </tr>\n",
       "    <tr>\n",
       "      <th>3</th>\n",
       "      <td>7980499275</td>\n",
       "      <td>True</td>\n",
       "      <td>2008-10-30 03:45:00.000</td>\n",
       "      <td>16.214170</td>\n",
       "      <td>-19.068683</td>\n",
       "      <td>gps</td>\n",
       "      <td>Loxodonta africana</td>\n",
       "      <td>AG005</td>\n",
       "      <td>LA5</td>\n",
       "      <td>African elephants in Etosha National Park (dat...</td>\n",
       "    </tr>\n",
       "    <tr>\n",
       "      <th>4</th>\n",
       "      <td>7980499276</td>\n",
       "      <td>True</td>\n",
       "      <td>2008-10-30 05:31:00.000</td>\n",
       "      <td>16.229372</td>\n",
       "      <td>-19.058258</td>\n",
       "      <td>gps</td>\n",
       "      <td>Loxodonta africana</td>\n",
       "      <td>AG005</td>\n",
       "      <td>LA5</td>\n",
       "      <td>African elephants in Etosha National Park (dat...</td>\n",
       "    </tr>\n",
       "  </tbody>\n",
       "</table>\n",
       "</div>"
      ],
      "text/plain": [
       "     event-id  visible                timestamp  location-long  location-lat  \\\n",
       "0  7980499272     True  2008-10-30 00:15:00.000      16.202088    -19.063725   \n",
       "1  7980499273     True  2008-10-30 02:46:00.000      16.209496    -19.069908   \n",
       "2  7980499274     True  2008-10-30 03:31:00.000      16.214184    -19.068719   \n",
       "3  7980499275     True  2008-10-30 03:45:00.000      16.214170    -19.068683   \n",
       "4  7980499276     True  2008-10-30 05:31:00.000      16.229372    -19.058258   \n",
       "\n",
       "  sensor-type individual-taxon-canonical-name tag-local-identifier  \\\n",
       "0         gps              Loxodonta africana                AG005   \n",
       "1         gps              Loxodonta africana                AG005   \n",
       "2         gps              Loxodonta africana                AG005   \n",
       "3         gps              Loxodonta africana                AG005   \n",
       "4         gps              Loxodonta africana                AG005   \n",
       "\n",
       "  individual-local-identifier  \\\n",
       "0                         LA5   \n",
       "1                         LA5   \n",
       "2                         LA5   \n",
       "3                         LA5   \n",
       "4                         LA5   \n",
       "\n",
       "                                          study-name  \n",
       "0  African elephants in Etosha National Park (dat...  \n",
       "1  African elephants in Etosha National Park (dat...  \n",
       "2  African elephants in Etosha National Park (dat...  \n",
       "3  African elephants in Etosha National Park (dat...  \n",
       "4  African elephants in Etosha National Park (dat...  "
      ]
     },
     "execution_count": 6,
     "metadata": {},
     "output_type": "execute_result"
    }
   ],
   "source": [
    "research.head()"
   ]
  },
  {
   "cell_type": "code",
   "execution_count": 28,
   "metadata": {},
   "outputs": [
    {
     "name": "stdout",
     "output_type": "stream",
     "text": [
      "2014-03-27 17:40:00.000 TO 2008-10-30 00:15:00.000\n"
     ]
    }
   ],
   "source": [
    "print(research['timestamp'].max(), 'TO', research['timestamp'].min())"
   ]
  },
  {
   "cell_type": "code",
   "execution_count": 24,
   "metadata": {},
   "outputs": [
    {
     "data": {
      "text/plain": [
       "15"
      ]
     },
     "execution_count": 24,
     "metadata": {},
     "output_type": "execute_result"
    }
   ],
   "source": [
    "research['tag-local-identifier'].nunique()"
   ]
  },
  {
   "cell_type": "markdown",
   "metadata": {},
   "source": [
    "15 Elephants tracked.\n",
    "\n",
    "Time period spans from Oct 2008 to March 2014, data gathered every ~15mins to 3+hrs\n",
    "\n",
    "Rough plot of movement:"
   ]
  },
  {
   "cell_type": "code",
   "execution_count": 29,
   "metadata": {},
   "outputs": [
    {
     "data": {
      "text/plain": [
       "<matplotlib.axes._subplots.AxesSubplot at 0x11cfc9eb8>"
      ]
     },
     "execution_count": 29,
     "metadata": {},
     "output_type": "execute_result"
    },
    {
     "data": {
      "image/png": "[encoded data removed]",
      "text/plain": [
       "<Figure size 432x288 with 1 Axes>"
      ]
     },
     "metadata": {
      "needs_background": "light"
     },
     "output_type": "display_data"
    }
   ],
   "source": [
    "research.plot(kind='scatter', x='location-long', y='location-lat', s=.05)"
   ]
  },
  {
   "cell_type": "code",
   "execution_count": 9,
   "metadata": {},
   "outputs": [
    {
     "data": {
      "text/plain": [
       "Loxodonta africana    99988\n",
       "Name: individual-taxon-canonical-name, dtype: int64"
      ]
     },
     "execution_count": 9,
     "metadata": {},
     "output_type": "execute_result"
    }
   ],
   "source": [
    "research['individual-taxon-canonical-name'].value_counts()"
   ]
  },
  {
   "cell_type": "code",
   "execution_count": 10,
   "metadata": {},
   "outputs": [
    {
     "data": {
      "text/html": [
       "<div>\n",
       "<style scoped>\n",
       "    .dataframe tbody tr th:only-of-type {\n",
       "        vertical-align: middle;\n",
       "    }\n",
       "\n",
       "    .dataframe tbody tr th {\n",
       "        vertical-align: top;\n",
       "    }\n",
       "\n",
       "    .dataframe thead th {\n",
       "        text-align: right;\n",
       "    }\n",
       "</style>\n",
       "<table border=\"1\" class=\"dataframe\">\n",
       "  <thead>\n",
       "    <tr style=\"text-align: right;\">\n",
       "      <th></th>\n",
       "      <th>location-lat</th>\n",
       "      <th>location-long</th>\n",
       "      <th>date</th>\n",
       "      <th>individual-taxon-canonical-name</th>\n",
       "      <th>tag-local-identifier</th>\n",
       "    </tr>\n",
       "  </thead>\n",
       "  <tbody>\n",
       "    <tr>\n",
       "      <th>0</th>\n",
       "      <td>-19.063725</td>\n",
       "      <td>16.202088</td>\n",
       "      <td>2008-10-30</td>\n",
       "      <td>Loxodonta africana</td>\n",
       "      <td>AG005</td>\n",
       "    </tr>\n",
       "    <tr>\n",
       "      <th>1</th>\n",
       "      <td>-19.069908</td>\n",
       "      <td>16.209496</td>\n",
       "      <td>2008-10-30</td>\n",
       "      <td>Loxodonta africana</td>\n",
       "      <td>AG005</td>\n",
       "    </tr>\n",
       "    <tr>\n",
       "      <th>2</th>\n",
       "      <td>-19.068719</td>\n",
       "      <td>16.214184</td>\n",
       "      <td>2008-10-30</td>\n",
       "      <td>Loxodonta africana</td>\n",
       "      <td>AG005</td>\n",
       "    </tr>\n",
       "    <tr>\n",
       "      <th>3</th>\n",
       "      <td>-19.068683</td>\n",
       "      <td>16.214170</td>\n",
       "      <td>2008-10-30</td>\n",
       "      <td>Loxodonta africana</td>\n",
       "      <td>AG005</td>\n",
       "    </tr>\n",
       "    <tr>\n",
       "      <th>4</th>\n",
       "      <td>-19.058258</td>\n",
       "      <td>16.229372</td>\n",
       "      <td>2008-10-30</td>\n",
       "      <td>Loxodonta africana</td>\n",
       "      <td>AG005</td>\n",
       "    </tr>\n",
       "  </tbody>\n",
       "</table>\n",
       "</div>"
      ],
      "text/plain": [
       "   location-lat  location-long        date individual-taxon-canonical-name  \\\n",
       "0    -19.063725      16.202088  2008-10-30              Loxodonta africana   \n",
       "1    -19.069908      16.209496  2008-10-30              Loxodonta africana   \n",
       "2    -19.068719      16.214184  2008-10-30              Loxodonta africana   \n",
       "3    -19.068683      16.214170  2008-10-30              Loxodonta africana   \n",
       "4    -19.058258      16.229372  2008-10-30              Loxodonta africana   \n",
       "\n",
       "  tag-local-identifier  \n",
       "0                AG005  \n",
       "1                AG005  \n",
       "2                AG005  \n",
       "3                AG005  \n",
       "4                AG005  "
      ]
     },
     "execution_count": 10,
     "metadata": {},
     "output_type": "execute_result"
    }
   ],
   "source": [
    "research['date'] = research['timestamp'].str.split(' ', expand=True)[0]\n",
    "\n",
    "research_to_sql = research[['location-lat', 'location-long', 'date', 'individual-taxon-canonical-name', 'tag-local-identifier']]\n",
    "research_to_sql.head()"
   ]
  },
  {
   "cell_type": "code",
   "execution_count": 11,
   "metadata": {},
   "outputs": [],
   "source": [
    "research_to_sql.to_csv('../data/research_to_sql.csv', index=False)"
   ]
  },
  {
   "cell_type": "markdown",
   "metadata": {},
   "source": [
    "## iNaturalist Sightings"
   ]
  },
  {
   "cell_type": "code",
   "execution_count": 12,
   "metadata": {},
   "outputs": [
    {
     "data": {
      "text/html": [
       "<div>\n",
       "<style scoped>\n",
       "    .dataframe tbody tr th:only-of-type {\n",
       "        vertical-align: middle;\n",
       "    }\n",
       "\n",
       "    .dataframe tbody tr th {\n",
       "        vertical-align: top;\n",
       "    }\n",
       "\n",
       "    .dataframe thead th {\n",
       "        text-align: right;\n",
       "    }\n",
       "</style>\n",
       "<table border=\"1\" class=\"dataframe\">\n",
       "  <thead>\n",
       "    <tr style=\"text-align: right;\">\n",
       "      <th></th>\n",
       "      <th>annotations</th>\n",
       "      <th>cached_votes_total</th>\n",
       "      <th>captive</th>\n",
       "      <th>comments</th>\n",
       "      <th>comments_count</th>\n",
       "      <th>community_taxon_id</th>\n",
       "      <th>context_geoprivacy</th>\n",
       "      <th>context_taxon_geoprivacy</th>\n",
       "      <th>context_user_geoprivacy</th>\n",
       "      <th>created_at</th>\n",
       "      <th>...</th>\n",
       "      <th>tags</th>\n",
       "      <th>taxon</th>\n",
       "      <th>taxon_geoprivacy</th>\n",
       "      <th>time_observed_at</th>\n",
       "      <th>time_zone_offset</th>\n",
       "      <th>updated_at</th>\n",
       "      <th>uri</th>\n",
       "      <th>user</th>\n",
       "      <th>uuid</th>\n",
       "      <th>votes</th>\n",
       "    </tr>\n",
       "  </thead>\n",
       "  <tbody>\n",
       "    <tr>\n",
       "      <th>0</th>\n",
       "      <td>[]</td>\n",
       "      <td>0</td>\n",
       "      <td>False</td>\n",
       "      <td>[]</td>\n",
       "      <td>0</td>\n",
       "      <td>43694.0</td>\n",
       "      <td>NaN</td>\n",
       "      <td>NaN</td>\n",
       "      <td>NaN</td>\n",
       "      <td>2019-11-09T22:32:16+00:00</td>\n",
       "      <td>...</td>\n",
       "      <td>[]</td>\n",
       "      <td>{'is_active': True, 'ancestry': '48460/1/2/355...</td>\n",
       "      <td>obscured</td>\n",
       "      <td>NaN</td>\n",
       "      <td>+00:00</td>\n",
       "      <td>2019-11-09T23:22:14+00:00</td>\n",
       "      <td>https://www.inaturalist.org/observations/35505414</td>\n",
       "      <td>{'created_at': '2019-03-28T17:16:18+00:00', 'i...</td>\n",
       "      <td>05607e16-7040-4afa-9743-1387a19a6f9f</td>\n",
       "      <td>[]</td>\n",
       "    </tr>\n",
       "    <tr>\n",
       "      <th>1</th>\n",
       "      <td>[]</td>\n",
       "      <td>0</td>\n",
       "      <td>False</td>\n",
       "      <td>[]</td>\n",
       "      <td>0</td>\n",
       "      <td>43694.0</td>\n",
       "      <td>NaN</td>\n",
       "      <td>NaN</td>\n",
       "      <td>NaN</td>\n",
       "      <td>2019-11-09T22:32:16+00:00</td>\n",
       "      <td>...</td>\n",
       "      <td>[]</td>\n",
       "      <td>{'is_active': True, 'ancestry': '48460/1/2/355...</td>\n",
       "      <td>obscured</td>\n",
       "      <td>NaN</td>\n",
       "      <td>+00:00</td>\n",
       "      <td>2019-11-09T23:22:19+00:00</td>\n",
       "      <td>https://www.inaturalist.org/observations/35505412</td>\n",
       "      <td>{'created_at': '2019-03-28T17:16:18+00:00', 'i...</td>\n",
       "      <td>87e81e4d-fe9e-466c-b448-a95057a31ff9</td>\n",
       "      <td>[]</td>\n",
       "    </tr>\n",
       "    <tr>\n",
       "      <th>2</th>\n",
       "      <td>[]</td>\n",
       "      <td>0</td>\n",
       "      <td>False</td>\n",
       "      <td>[]</td>\n",
       "      <td>0</td>\n",
       "      <td>43694.0</td>\n",
       "      <td>NaN</td>\n",
       "      <td>NaN</td>\n",
       "      <td>NaN</td>\n",
       "      <td>2019-11-09T16:39:02+01:00</td>\n",
       "      <td>...</td>\n",
       "      <td>[]</td>\n",
       "      <td>{'is_active': True, 'ancestry': '48460/1/2/355...</td>\n",
       "      <td>obscured</td>\n",
       "      <td>2019-08-11T12:32:00+02:00</td>\n",
       "      <td>+01:00</td>\n",
       "      <td>2019-11-10T00:01:53+01:00</td>\n",
       "      <td>https://www.inaturalist.org/observations/35489877</td>\n",
       "      <td>{'created_at': '2019-11-09T14:55:11+00:00', 'i...</td>\n",
       "      <td>badb19e5-148e-46c6-80bc-b758fda9176d</td>\n",
       "      <td>[]</td>\n",
       "    </tr>\n",
       "    <tr>\n",
       "      <th>3</th>\n",
       "      <td>[]</td>\n",
       "      <td>0</td>\n",
       "      <td>False</td>\n",
       "      <td>[]</td>\n",
       "      <td>0</td>\n",
       "      <td>43694.0</td>\n",
       "      <td>NaN</td>\n",
       "      <td>NaN</td>\n",
       "      <td>NaN</td>\n",
       "      <td>2019-11-09T16:50:10+02:00</td>\n",
       "      <td>...</td>\n",
       "      <td>[]</td>\n",
       "      <td>{'is_active': True, 'ancestry': '48460/1/2/355...</td>\n",
       "      <td>obscured</td>\n",
       "      <td>2007-03-30T11:58:00+02:00</td>\n",
       "      <td>+02:00</td>\n",
       "      <td>2019-11-10T01:05:19+02:00</td>\n",
       "      <td>https://www.inaturalist.org/observations/35488391</td>\n",
       "      <td>{'created_at': '2017-10-06T19:53:45+00:00', 'i...</td>\n",
       "      <td>879143fd-5774-4e34-b2c5-c08728365325</td>\n",
       "      <td>[]</td>\n",
       "    </tr>\n",
       "    <tr>\n",
       "      <th>4</th>\n",
       "      <td>[]</td>\n",
       "      <td>0</td>\n",
       "      <td>False</td>\n",
       "      <td>[]</td>\n",
       "      <td>0</td>\n",
       "      <td>43694.0</td>\n",
       "      <td>NaN</td>\n",
       "      <td>NaN</td>\n",
       "      <td>NaN</td>\n",
       "      <td>2019-11-08T14:49:13-08:00</td>\n",
       "      <td>...</td>\n",
       "      <td>[]</td>\n",
       "      <td>{'is_active': True, 'ancestry': '48460/1/2/355...</td>\n",
       "      <td>obscured</td>\n",
       "      <td>2019-10-05T10:06:00-07:00</td>\n",
       "      <td>-08:00</td>\n",
       "      <td>2019-11-09T02:23:24-08:00</td>\n",
       "      <td>https://www.inaturalist.org/observations/35466034</td>\n",
       "      <td>{'created_at': '2015-03-16T22:46:00+00:00', 'i...</td>\n",
       "      <td>125ed0d3-2af6-4291-a2a1-8627e57bbcb8</td>\n",
       "      <td>[]</td>\n",
       "    </tr>\n",
       "  </tbody>\n",
       "</table>\n",
       "<p>5 rows × 72 columns</p>\n",
       "</div>"
      ],
      "text/plain": [
       "  annotations  cached_votes_total  captive comments  comments_count  \\\n",
       "0          []                   0    False       []               0   \n",
       "1          []                   0    False       []               0   \n",
       "2          []                   0    False       []               0   \n",
       "3          []                   0    False       []               0   \n",
       "4          []                   0    False       []               0   \n",
       "\n",
       "   community_taxon_id  context_geoprivacy  context_taxon_geoprivacy  \\\n",
       "0             43694.0                 NaN                       NaN   \n",
       "1             43694.0                 NaN                       NaN   \n",
       "2             43694.0                 NaN                       NaN   \n",
       "3             43694.0                 NaN                       NaN   \n",
       "4             43694.0                 NaN                       NaN   \n",
       "\n",
       "   context_user_geoprivacy                 created_at  ... tags  \\\n",
       "0                      NaN  2019-11-09T22:32:16+00:00  ...   []   \n",
       "1                      NaN  2019-11-09T22:32:16+00:00  ...   []   \n",
       "2                      NaN  2019-11-09T16:39:02+01:00  ...   []   \n",
       "3                      NaN  2019-11-09T16:50:10+02:00  ...   []   \n",
       "4                      NaN  2019-11-08T14:49:13-08:00  ...   []   \n",
       "\n",
       "                                               taxon taxon_geoprivacy  \\\n",
       "0  {'is_active': True, 'ancestry': '48460/1/2/355...         obscured   \n",
       "1  {'is_active': True, 'ancestry': '48460/1/2/355...         obscured   \n",
       "2  {'is_active': True, 'ancestry': '48460/1/2/355...         obscured   \n",
       "3  {'is_active': True, 'ancestry': '48460/1/2/355...         obscured   \n",
       "4  {'is_active': True, 'ancestry': '48460/1/2/355...         obscured   \n",
       "\n",
       "            time_observed_at  time_zone_offset                 updated_at  \\\n",
       "0                        NaN            +00:00  2019-11-09T23:22:14+00:00   \n",
       "1                        NaN            +00:00  2019-11-09T23:22:19+00:00   \n",
       "2  2019-08-11T12:32:00+02:00            +01:00  2019-11-10T00:01:53+01:00   \n",
       "3  2007-03-30T11:58:00+02:00            +02:00  2019-11-10T01:05:19+02:00   \n",
       "4  2019-10-05T10:06:00-07:00            -08:00  2019-11-09T02:23:24-08:00   \n",
       "\n",
       "                                                 uri  \\\n",
       "0  https://www.inaturalist.org/observations/35505414   \n",
       "1  https://www.inaturalist.org/observations/35505412   \n",
       "2  https://www.inaturalist.org/observations/35489877   \n",
       "3  https://www.inaturalist.org/observations/35488391   \n",
       "4  https://www.inaturalist.org/observations/35466034   \n",
       "\n",
       "                                                user  \\\n",
       "0  {'created_at': '2019-03-28T17:16:18+00:00', 'i...   \n",
       "1  {'created_at': '2019-03-28T17:16:18+00:00', 'i...   \n",
       "2  {'created_at': '2019-11-09T14:55:11+00:00', 'i...   \n",
       "3  {'created_at': '2017-10-06T19:53:45+00:00', 'i...   \n",
       "4  {'created_at': '2015-03-16T22:46:00+00:00', 'i...   \n",
       "\n",
       "                                   uuid  votes  \n",
       "0  05607e16-7040-4afa-9743-1387a19a6f9f     []  \n",
       "1  87e81e4d-fe9e-466c-b448-a95057a31ff9     []  \n",
       "2  badb19e5-148e-46c6-80bc-b758fda9176d     []  \n",
       "3  879143fd-5774-4e34-b2c5-c08728365325     []  \n",
       "4  125ed0d3-2af6-4291-a2a1-8627e57bbcb8     []  \n",
       "\n",
       "[5 rows x 72 columns]"
      ]
     },
     "execution_count": 12,
     "metadata": {},
     "output_type": "execute_result"
    }
   ],
   "source": [
    "sightings = pd.read_csv('../data/raw_elp.csv')\n",
    "sightings = sightings[sightings['captive'] == False]\n",
    "\n",
    "sightings.head()"
   ]
  },
  {
   "cell_type": "code",
   "execution_count": 13,
   "metadata": {},
   "outputs": [
    {
     "data": {
      "text/plain": [
       "['annotations',\n",
       " 'cached_votes_total',\n",
       " 'captive',\n",
       " 'comments',\n",
       " 'comments_count',\n",
       " 'community_taxon_id',\n",
       " 'context_geoprivacy',\n",
       " 'context_taxon_geoprivacy',\n",
       " 'context_user_geoprivacy',\n",
       " 'created_at',\n",
       " 'created_at_details',\n",
       " 'created_time_zone',\n",
       " 'description',\n",
       " 'faves',\n",
       " 'faves_count',\n",
       " 'flags',\n",
       " 'geojson',\n",
       " 'geoprivacy',\n",
       " 'id',\n",
       " 'id_please',\n",
       " 'ident_taxon_ids',\n",
       " 'identifications',\n",
       " 'identifications_count',\n",
       " 'identifications_most_agree',\n",
       " 'identifications_most_disagree',\n",
       " 'identifications_some_agree',\n",
       " 'license_code',\n",
       " 'location',\n",
       " 'map_scale',\n",
       " 'mappable',\n",
       " 'non_owner_ids',\n",
       " 'num_identification_agreements',\n",
       " 'num_identification_disagreements',\n",
       " 'oauth_application_id',\n",
       " 'obscured',\n",
       " 'observation_photos',\n",
       " 'observation_sounds',\n",
       " 'observed_on',\n",
       " 'observed_on_details',\n",
       " 'observed_on_string',\n",
       " 'observed_time_zone',\n",
       " 'ofvs',\n",
       " 'out_of_range',\n",
       " 'outlinks',\n",
       " 'owners_identification_from_vision',\n",
       " 'photos',\n",
       " 'place_guess',\n",
       " 'place_ids',\n",
       " 'positional_accuracy',\n",
       " 'preferences',\n",
       " 'project_ids',\n",
       " 'project_ids_with_curator_id',\n",
       " 'project_ids_without_curator_id',\n",
       " 'project_observations',\n",
       " 'public_positional_accuracy',\n",
       " 'quality_grade',\n",
       " 'quality_metrics',\n",
       " 'reviewed_by',\n",
       " 'site_id',\n",
       " 'sounds',\n",
       " 'spam',\n",
       " 'species_guess',\n",
       " 'tags',\n",
       " 'taxon',\n",
       " 'taxon_geoprivacy',\n",
       " 'time_observed_at',\n",
       " 'time_zone_offset',\n",
       " 'updated_at',\n",
       " 'uri',\n",
       " 'user',\n",
       " 'uuid',\n",
       " 'votes']"
      ]
     },
     "execution_count": 13,
     "metadata": {},
     "output_type": "execute_result"
    }
   ],
   "source": [
    "list(sightings.columns)"
   ]
  },
  {
   "cell_type": "code",
   "execution_count": 14,
   "metadata": {},
   "outputs": [
    {
     "data": {
      "text/html": [
       "<div>\n",
       "<style scoped>\n",
       "    .dataframe tbody tr th:only-of-type {\n",
       "        vertical-align: middle;\n",
       "    }\n",
       "\n",
       "    .dataframe tbody tr th {\n",
       "        vertical-align: top;\n",
       "    }\n",
       "\n",
       "    .dataframe thead th {\n",
       "        text-align: right;\n",
       "    }\n",
       "</style>\n",
       "<table border=\"1\" class=\"dataframe\">\n",
       "  <thead>\n",
       "    <tr style=\"text-align: right;\">\n",
       "      <th></th>\n",
       "      <th>lat</th>\n",
       "      <th>long</th>\n",
       "      <th>date</th>\n",
       "      <th>species</th>\n",
       "      <th>uri</th>\n",
       "    </tr>\n",
       "  </thead>\n",
       "  <tbody>\n",
       "    <tr>\n",
       "      <th>0</th>\n",
       "      <td>-1.5398388646</td>\n",
       "      <td>35.012608336</td>\n",
       "      <td>2019-11-09</td>\n",
       "      <td>Loxodonta africana</td>\n",
       "      <td>https://www.inaturalist.org/observations/35505414</td>\n",
       "    </tr>\n",
       "    <tr>\n",
       "      <th>1</th>\n",
       "      <td>0.3507374091</td>\n",
       "      <td>37.5253124093</td>\n",
       "      <td>2019-11-09</td>\n",
       "      <td>Loxodonta africana</td>\n",
       "      <td>https://www.inaturalist.org/observations/35505412</td>\n",
       "    </tr>\n",
       "    <tr>\n",
       "      <th>2</th>\n",
       "      <td>-33.524746457</td>\n",
       "      <td>25.7267441351</td>\n",
       "      <td>2019-11-09</td>\n",
       "      <td>Loxodonta africana</td>\n",
       "      <td>https://www.inaturalist.org/observations/35489877</td>\n",
       "    </tr>\n",
       "    <tr>\n",
       "      <th>3</th>\n",
       "      <td>-28.3921907196</td>\n",
       "      <td>31.8279838425</td>\n",
       "      <td>2019-11-09</td>\n",
       "      <td>Loxodonta africana</td>\n",
       "      <td>https://www.inaturalist.org/observations/35488391</td>\n",
       "    </tr>\n",
       "    <tr>\n",
       "      <th>4</th>\n",
       "      <td>-33.4887225126</td>\n",
       "      <td>25.9328101723</td>\n",
       "      <td>2019-11-08</td>\n",
       "      <td>Loxodonta africana</td>\n",
       "      <td>https://www.inaturalist.org/observations/35466034</td>\n",
       "    </tr>\n",
       "  </tbody>\n",
       "</table>\n",
       "</div>"
      ],
      "text/plain": [
       "              lat           long        date             species  \\\n",
       "0   -1.5398388646   35.012608336  2019-11-09  Loxodonta africana   \n",
       "1    0.3507374091  37.5253124093  2019-11-09  Loxodonta africana   \n",
       "2   -33.524746457  25.7267441351  2019-11-09  Loxodonta africana   \n",
       "3  -28.3921907196  31.8279838425  2019-11-09  Loxodonta africana   \n",
       "4  -33.4887225126  25.9328101723  2019-11-08  Loxodonta africana   \n",
       "\n",
       "                                                 uri  \n",
       "0  https://www.inaturalist.org/observations/35505414  \n",
       "1  https://www.inaturalist.org/observations/35505412  \n",
       "2  https://www.inaturalist.org/observations/35489877  \n",
       "3  https://www.inaturalist.org/observations/35488391  \n",
       "4  https://www.inaturalist.org/observations/35466034  "
      ]
     },
     "execution_count": 14,
     "metadata": {},
     "output_type": "execute_result"
    }
   ],
   "source": [
    "sightings['species'], sightings['lat'], sightings['long'], sightings['date'] = name_geo_time(sightings)\n",
    "\n",
    "sightings_to_sql = sightings[['lat', 'long', 'date', 'species', 'uri',]]\n",
    "sightings_to_sql.head()"
   ]
  },
  {
   "cell_type": "code",
   "execution_count": 15,
   "metadata": {},
   "outputs": [],
   "source": [
    "sightings_to_sql.to_csv('../data/sightings_to_sql.csv', index=False)"
   ]
  },
  {
   "cell_type": "markdown",
   "metadata": {},
   "source": [
    "## Additional Sightings"
   ]
  },
  {
   "cell_type": "code",
   "execution_count": 22,
   "metadata": {},
   "outputs": [
    {
     "data": {
      "text/plain": [
       "164"
      ]
     },
     "execution_count": 22,
     "metadata": {},
     "output_type": "execute_result"
    }
   ],
   "source": [
    "alt_counts = pd.read_csv('../data/species_counts.csv')\n",
    "len(alt_counts['taxon'].apply(name_extractor).unique())"
   ]
  },
  {
   "cell_type": "code",
   "execution_count": null,
   "metadata": {},
   "outputs": [],
   "source": []
  }
 ],
 "metadata": {
  "kernelspec": {
   "display_name": "Python 3",
   "language": "python",
   "name": "python3"
  },
  "language_info": {
   "codemirror_mode": {
    "name": "ipython",
    "version": 3
   },
   "file_extension": ".py",
   "mimetype": "text/x-python",
   "name": "python",
   "nbconvert_exporter": "python",
   "pygments_lexer": "ipython3",
   "version": "3.7.3"
  }
 },
 "nbformat": 4,
 "nbformat_minor": 2
}
